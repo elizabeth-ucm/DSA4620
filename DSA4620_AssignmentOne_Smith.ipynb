{
  "nbformat": 4,
  "nbformat_minor": 0,
  "metadata": {
    "colab": {
      "provenance": [],
      "authorship_tag": "ABX9TyNCgiOlDEZdRJ9b1gy/jM4K",
      "include_colab_link": true
    },
    "kernelspec": {
      "name": "python3",
      "display_name": "Python 3"
    },
    "language_info": {
      "name": "python"
    }
  },
  "cells": [
    {
      "cell_type": "markdown",
      "metadata": {
        "id": "view-in-github",
        "colab_type": "text"
      },
      "source": [
        "<a href=\"https://colab.research.google.com/github/elizabeth-ucm/DSA4620/blob/main/DSA4620_AssignmentOne_Smith.ipynb\" target=\"_parent\"><img src=\"https://colab.research.google.com/assets/colab-badge.svg\" alt=\"Open In Colab\"/></a>"
      ]
    },
    {
      "cell_type": "code",
      "execution_count": null,
      "metadata": {
        "colab": {
          "base_uri": "https://localhost:8080/"
        },
        "id": "J7DfCQcwhJFc",
        "outputId": "deb6aed8-e706-405b-d211-bb843453b58c"
      },
      "outputs": [
        {
          "output_type": "stream",
          "name": "stdout",
          "text": [
            "Mounted at /content/drive\n"
          ]
        }
      ],
      "source": [
        "#Mount Google Drive\n",
        "from google.colab import drive\n",
        "drive.mount('/content/drive')"
      ]
    },
    {
      "cell_type": "code",
      "source": [
        "#5.A\n",
        "#Write a Python program that will input the word python as a list of characters from console\n",
        "#Delete atleast 2 characters and reverse the remaining letters and print\n",
        "\n",
        "s = input(\"Enter a word: \")\n",
        "s = s[:-2]\n",
        "print(s[::-1])"
      ],
      "metadata": {
        "colab": {
          "base_uri": "https://localhost:8080/"
        },
        "id": "5YNSz66HngA5",
        "outputId": "596d3920-5de4-4ceb-ee15-d528aedbf378"
      },
      "execution_count": 5,
      "outputs": [
        {
          "output_type": "stream",
          "name": "stdout",
          "text": [
            "Enter a word: python\n",
            "htyp\n"
          ]
        }
      ]
    },
    {
      "cell_type": "code",
      "source": [
        "from re import A\n",
        "#5.B\n",
        "#Take two numbers from the user and perform arithmetic on them\n",
        "\n",
        "a = int(input(\"Enter first number: \"))\n",
        "b = int(input(\"Enter second number: \"))\n",
        "\n",
        "print(f\"Addition: {a} + {b} = {a + b}\")\n",
        "print(f\"Subtraction: {a} - {b} = {a - b}\")\n",
        "print(f\"Multiplication: {a} * {b} = {a * b}\")\n",
        "print(f\"Division: {a} / {b} = {a / b}\")\n"
      ],
      "metadata": {
        "colab": {
          "base_uri": "https://localhost:8080/"
        },
        "id": "PFd3K1pOqMmJ",
        "outputId": "578f6d22-43fb-4b2d-fb10-4128498ceff6"
      },
      "execution_count": 16,
      "outputs": [
        {
          "output_type": "stream",
          "name": "stdout",
          "text": [
            "Enter first number: 7\n",
            "Enter second number: 7\n",
            "Addition: 7 + 7 = 14\n",
            "Subtraction: 7 - 7 = 0\n",
            "Multiplication: 7 * 7 = 49\n",
            "Division: 7 / 7 = 1.0\n"
          ]
        }
      ]
    },
    {
      "cell_type": "code",
      "source": [
        "#6\n",
        "#Write a program that accepts a sentence\n",
        "#and replace each occurence of python with pythons\n",
        "\n",
        "\n",
        "s = input(\"Enter a sentence: \")\n",
        "print(s.replace('python', 'pythons'))"
      ],
      "metadata": {
        "colab": {
          "base_uri": "https://localhost:8080/"
        },
        "id": "JRMN7If8sS29",
        "outputId": "5030f993-e01f-4a50-a8ce-58fa9d4b12cc"
      },
      "execution_count": 17,
      "outputs": [
        {
          "output_type": "stream",
          "name": "stdout",
          "text": [
            "Enter a sentence: this is a python\n",
            "this is a pythons\n"
          ]
        }
      ]
    },
    {
      "cell_type": "code",
      "source": [
        "#7\n",
        "#Use the if statement s to write a program to print the letter\n",
        "#grade based on an input class score\n",
        "\n",
        "score = int(input(\"Enter score: \"))\n",
        "\n",
        "if score < 60:\n",
        "  print(\"F\")\n",
        "elif score < 70:\n",
        "  print(\"D\")\n",
        "elif score < 80:\n",
        "  print(\"C\")\n",
        "elif score < 90:\n",
        "  print(\"B\")\n",
        "else:\n",
        "  print(\"A\")\n",
        "\n"
      ],
      "metadata": {
        "colab": {
          "base_uri": "https://localhost:8080/"
        },
        "id": "n3Muxh8Mtr6W",
        "outputId": "6e5a2660-59ef-4ade-cca7-ba257b219b7c"
      },
      "execution_count": 23,
      "outputs": [
        {
          "output_type": "stream",
          "name": "stdout",
          "text": [
            "Enter score: 60\n",
            "D\n"
          ]
        }
      ]
    },
    {
      "cell_type": "code",
      "source": [
        "#8\n",
        "#Write a code that appends the type of elements from a given list\n",
        "x = eval(input(\"Enter the list, with each item separated by a comma: \"))\n",
        "types = [type(i) for i in x]\n",
        "\n",
        "print(x)\n",
        "print(types)"
      ],
      "metadata": {
        "colab": {
          "base_uri": "https://localhost:8080/"
        },
        "id": "Tv1_TPMoulaI",
        "outputId": "a06d9979-fbd9-4e45-ff5b-481a6adffa69"
      },
      "execution_count": 26,
      "outputs": [
        {
          "output_type": "stream",
          "name": "stdout",
          "text": [
            "Enter the list, with each item separated by a comma: 11,22,33.5, 'town'\n",
            "(11, 22, 33.5, 'town')\n",
            "[<class 'int'>, <class 'int'>, <class 'float'>, <class 'str'>]\n"
          ]
        }
      ]
    },
    {
      "cell_type": "code",
      "source": [
        "from os import remove\n",
        "#9\n",
        "\n",
        "IT_companies = {'Facebook', 'Google', 'Microsoft', 'Apple', 'IBM', 'Oracle', 'Amazon'}\n",
        "A={19,22,24,20,25,26}\n",
        "B={19,22,20,25,26,24,28,27}\n",
        "age = [22,19,24,25,26,24,25,24]\n",
        "\n",
        "#Find the length of IT_companies\n",
        "print(\"The length of IT_companies is: \", len(IT_companies))\n",
        "\n",
        "\n",
        "#add twiiter to IT_companies\n",
        "IT_companies.add('Twitter')\n",
        "print(\"After adding 'Twitter' the set is now: \", IT_companies)\n",
        "\n",
        "#insert multiple IT companies at once to the set IT_companies\n",
        "IT_companies.update(['MadeUpName', 'AnotherCompany'])\n",
        "print(\"After adding multiple elements the set is now: \", IT_companies)\n",
        "\n",
        "#remove one of the companies from the set IT_companies\n",
        "IT_companies.remove('MadeUpName')\n",
        "print(\"After removing a company the set is now: \", IT_companies)\n",
        "\n",
        "#What is the difference between remove and discard\n",
        "#Remove gives an error if the item is not found, discard does not.\n",
        "\n",
        "#Join A and B\n",
        "print(\"A union B:\", A.union(B))\n",
        "\n",
        "#Find A intersection B\n",
        "print(\"A intersection B:\", A.intersection(B))\n",
        "\n",
        "#Is A a subset of B\n",
        "print(\"Is A a subset of B: \", A.issubset(B))\n",
        "\n",
        "#Are A and B disjoint sets\n",
        "print(\"Are A and B disjoint sets: \", A.isdisjoint(B))\n",
        "\n",
        "#join A with B and B with A\n",
        "print(\"A union B:\", A.union(B))\n",
        "print(\"B union A:\", B.union(A))\n",
        "\n",
        "#What is the symmetric difference between A and B\n",
        "print(\"Symmetric difference:\", A.symmetric_difference(B))\n",
        "\n",
        "#Delete the sets completely\n",
        "del A\n",
        "del B\n",
        "\n",
        "#Convert the ages to a set and compare the length of the list and the set\n",
        "ageSet = set(age)\n",
        "print(len(age))\n",
        "print(len(ageSet))\n",
        "\n"
      ],
      "metadata": {
        "colab": {
          "base_uri": "https://localhost:8080/"
        },
        "id": "6c0xEBkov6Kx",
        "outputId": "71ad473f-5d6f-488e-b3d5-3f23c29749c3"
      },
      "execution_count": 32,
      "outputs": [
        {
          "output_type": "stream",
          "name": "stdout",
          "text": [
            "The length of IT_companies is:  7\n",
            "After adding 'Twitter' the set is now:  {'Google', 'IBM', 'Amazon', 'Apple', 'Twitter', 'Microsoft', 'Oracle', 'Facebook'}\n",
            "After adding multiple elements the set is now:  {'IBM', 'Oracle', 'Amazon', 'Apple', 'Facebook', 'AnotherCompany', 'Google', 'Microsoft', 'MadeUpName', 'Twitter'}\n",
            "After removing a company the set is now:  {'IBM', 'Oracle', 'Amazon', 'Apple', 'Facebook', 'AnotherCompany', 'Google', 'Microsoft', 'Twitter'}\n",
            "A union B: {19, 20, 22, 24, 25, 26, 27, 28}\n",
            "A intersection B: {19, 20, 22, 24, 25, 26}\n",
            "Is A a subset of B:  True\n",
            "Are A and B disjoint sets:  False\n",
            "A union B: {19, 20, 22, 24, 25, 26, 27, 28}\n",
            "B union A: {19, 20, 22, 24, 25, 26, 27, 28}\n",
            "Symmetric difference: {27, 28}\n",
            "8\n",
            "5\n"
          ]
        }
      ]
    }
  ]
}