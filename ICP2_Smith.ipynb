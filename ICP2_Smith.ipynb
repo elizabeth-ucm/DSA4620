{
  "nbformat": 4,
  "nbformat_minor": 0,
  "metadata": {
    "colab": {
      "provenance": [],
      "authorship_tag": "ABX9TyMaWEusJZJ5OzD/W04nTlUB",
      "include_colab_link": true
    },
    "kernelspec": {
      "name": "python3",
      "display_name": "Python 3"
    },
    "language_info": {
      "name": "python"
    }
  },
  "cells": [
    {
      "cell_type": "markdown",
      "metadata": {
        "id": "view-in-github",
        "colab_type": "text"
      },
      "source": [
        "<a href=\"https://colab.research.google.com/github/elizabeth-ucm/DSA4620/blob/main/ICP2_Smith.ipynb\" target=\"_parent\"><img src=\"https://colab.research.google.com/assets/colab-badge.svg\" alt=\"Open In Colab\"/></a>"
      ]
    },
    {
      "cell_type": "code",
      "execution_count": null,
      "metadata": {
        "colab": {
          "base_uri": "https://localhost:8080/"
        },
        "id": "p80WmAwrqCwG",
        "outputId": "f73902c6-e94d-4b5e-ddfe-f09316f76e37"
      },
      "outputs": [
        {
          "output_type": "stream",
          "name": "stdout",
          "text": [
            "Instance count: 2, Class count: 3\n",
            "Instance count: 1, Class count: 3\n"
          ]
        }
      ],
      "source": [
        "#1\n",
        "\n",
        "class Counter:\n",
        "    count = 0  #class variable\n",
        "\n",
        "    def __init__(self):\n",
        "        self._count = 0  #instance variable\n",
        "\n",
        "    def increment(self):\n",
        "        self._count += 1 #increases ONLY this instance’s count\n",
        "        Counter.count += 1 #increases the shared class count\n",
        "\n",
        "    def get_counts(self):\n",
        "        return f\"Instance count: {self._count}, Class count: {Counter.count}\"\n",
        "\n",
        "\n",
        "a = Counter()\n",
        "b = Counter()\n",
        "\n",
        "a.increment()  # a._count = 1, Counter.count = 1\n",
        "a.increment()  # a._count = 2, Counter.count = 2\n",
        "b.increment()  # b._count = 1, Counter.count = 3\n",
        "\n",
        "print(a.get_counts()) #\"Instance countL 2, Class count: 3\"\n",
        "print(b.get_counts())  #\"Instance countL 1, Class count: 3\"\n",
        "\n",
        "\n",
        "#self.count increases only that objects personal counter\n",
        "#Counter.count increases the global counter shared across all instantces\n"
      ]
    },
    {
      "cell_type": "code",
      "source": [
        "#2\n",
        "\n",
        "def sum_all(*args):\n",
        "  return sum(args)\n",
        "\n",
        "print(\"Sum of 1,2,3 is: \", sum_all(1,2,3))\n",
        "print(\"Sum of 4,5,6,7 is: \", sum_all(4,5,6,7 ))\n",
        "\n",
        "\n",
        "#The code was missing the * before args"
      ],
      "metadata": {
        "colab": {
          "base_uri": "https://localhost:8080/"
        },
        "id": "gBWaTr1EqTOi",
        "outputId": "2131547e-e4d1-499f-8b3a-39b8152b16c0"
      },
      "execution_count": null,
      "outputs": [
        {
          "output_type": "stream",
          "name": "stdout",
          "text": [
            "Sum of 1,2,3 is:  6\n",
            "Sum of 4,5,6,7 is:  22\n"
          ]
        }
      ]
    },
    {
      "cell_type": "code",
      "source": [
        "#3\n",
        "def first_word(words):\n",
        "    sortedWords = sorted(words)\n",
        "    return sortedWords[0]\n",
        "\n",
        "students = ['Mary', 'Zelda', 'Jimmy', 'Jack', 'Bartholomew', 'Gertrude']\n",
        "print(first_word(students))  # Output: Bartholomew\n"
      ],
      "metadata": {
        "colab": {
          "base_uri": "https://localhost:8080/"
        },
        "id": "oxFsOGunrVLq",
        "outputId": "31b4007d-ee0f-45c8-f23a-25f2b0d9f30a"
      },
      "execution_count": null,
      "outputs": [
        {
          "output_type": "stream",
          "name": "stdout",
          "text": [
            "Bartholomew\n"
          ]
        }
      ]
    },
    {
      "cell_type": "code",
      "source": [
        "#4\n",
        "\n",
        "\n",
        "class Employee:\n",
        "\n",
        "  employee_count = 0\n",
        "\n",
        "  def ___init__(self, name, family, salary, department):\n",
        "    self.name = name\n",
        "    self.salary = salary\n",
        "    self.department = department\n",
        "    self.family = family\n",
        "\n",
        "    def average_salary(self, employees):\n",
        "      total_salary = sum(employee.salary for employee in employees)\n",
        "      return total_salary / len(employees)\n"
      ],
      "metadata": {
        "id": "pIydDwbdxKDj"
      },
      "execution_count": null,
      "outputs": []
    },
    {
      "cell_type": "code",
      "source": [
        "#Emplaoyee class\n",
        "class Employee:\n",
        "    #data memeber to count the number of employees\n",
        "    employee_count = 0\n",
        "\n",
        "    #constructor to initiialize name, family, salary, depaprtment\n",
        "    def __init__(self, name, family, salary, department):\n",
        "        self.name = name\n",
        "        self.family = family\n",
        "        self.salary = salary\n",
        "        self.department = department\n",
        "        Employee.employee_count += 1  #incrememnt to count toal employees\n",
        "\n",
        "    #Create a function to average salary\n",
        "    def average_salary(self, employees):\n",
        "        total_salary = sum(emp.salary for emp in employees)\n",
        "        return total_salary / len(employees)\n",
        "\n",
        "\n",
        "#FulltimeEmployee inherits from Employee\n",
        "class FulltimeEmployee(Employee):\n",
        "    def __init__(self, name, family, salary, department):\n",
        "        #Call parent constructor with super\n",
        "        super().__init__(name, family, salary, department)\n",
        "\n",
        "\n",
        "#Sample instances to prove it works\n",
        "emp1 = Employee(\"Haruki\", \"Murakami\", 44000, \"Literature\")\n",
        "emp2 = Employee(\"Pam\", \"Johnson\", 60000, \"HR\")\n",
        "emp3 = FulltimeEmployee(\"Duck\", \"McScrooge\", 70000, \"Finance\")\n",
        "emp4 = FulltimeEmployee(\"Mark\", \"Zuckerberg\", 80000, \"Marketing\")\n",
        "emp5 = Employee(\"John\", \"Doe\", 50000, \"Sales\")\n",
        "emp6 = FulltimeEmployee(\"Jane\", \"Doe\", 55000, \"Sales\")\n",
        "\n",
        "#employees list\n",
        "employees = [emp1, emp2, emp3, emp4, emp5]\n",
        "\n",
        "#average_salary function\n",
        "print(\"Total Employees:\", Employee.employee_count)\n",
        "print(\"Average Salary:\", emp6.average_salary(employees))\n",
        "\n",
        "\n",
        "print(\"Employee #5:\", emp5.name, emp5.family, \"-\", emp5.department)\n",
        "print(\"Fulltime Employee #3:\", emp3.name, emp3.family, \"-\", emp3.department)\n"
      ],
      "metadata": {
        "id": "4Df0OoFYyNIe",
        "colab": {
          "base_uri": "https://localhost:8080/"
        },
        "outputId": "9b985663-0d94-4121-eec4-f68f3d5a5fd5"
      },
      "execution_count": null,
      "outputs": [
        {
          "output_type": "stream",
          "name": "stdout",
          "text": [
            "Total Employees: 6\n",
            "Average Salary: 60800.0\n",
            "Employee #5: John Doe - Sales\n",
            "Fulltime Employee #3: Duck McScrooge - Finance\n"
          ]
        }
      ]
    }
  ]
}